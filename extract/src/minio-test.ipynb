{
 "cells": [
  {
   "cell_type": "code",
   "execution_count": 2,
   "metadata": {},
   "outputs": [
    {
     "name": "stdout",
     "output_type": "stream",
     "text": [
      "Requirement already satisfied: minio in c:\\users\\aayushs2\\appdata\\local\\packages\\pythonsoftwarefoundation.python.3.10_qbz5n2kfra8p0\\localcache\\local-packages\\python310\\site-packages (7.1.12)\n",
      "Requirement already satisfied: certifi in c:\\users\\aayushs2\\appdata\\local\\packages\\pythonsoftwarefoundation.python.3.10_qbz5n2kfra8p0\\localcache\\local-packages\\python310\\site-packages (from minio) (2022.9.24)\n",
      "Requirement already satisfied: urllib3 in c:\\users\\aayushs2\\appdata\\local\\packages\\pythonsoftwarefoundation.python.3.10_qbz5n2kfra8p0\\localcache\\local-packages\\python310\\site-packages (from minio) (1.26.13)\n"
     ]
    },
    {
     "name": "stderr",
     "output_type": "stream",
     "text": [
      "\n",
      "[notice] A new release of pip available: 22.2.2 -> 22.3.1\n",
      "[notice] To update, run: C:\\Users\\aayushs2\\AppData\\Local\\Microsoft\\WindowsApps\\PythonSoftwareFoundation.Python.3.10_qbz5n2kfra8p0\\python.exe -m pip install --upgrade pip\n"
     ]
    }
   ],
   "source": [
    "import sys\n",
    "!{sys.executable} -m pip install minio"
   ]
  },
  {
   "cell_type": "code",
   "execution_count": 3,
   "metadata": {},
   "outputs": [
    {
     "name": "stdout",
     "output_type": "stream",
     "text": [
      "Requirement already satisfied: flask in c:\\users\\aayushs2\\appdata\\local\\packages\\pythonsoftwarefoundation.python.3.10_qbz5n2kfra8p0\\localcache\\local-packages\\python310\\site-packages (2.2.2)\n",
      "Requirement already satisfied: Jinja2>=3.0 in c:\\users\\aayushs2\\appdata\\local\\packages\\pythonsoftwarefoundation.python.3.10_qbz5n2kfra8p0\\localcache\\local-packages\\python310\\site-packages (from flask) (3.1.2)\n",
      "Requirement already satisfied: Werkzeug>=2.2.2 in c:\\users\\aayushs2\\appdata\\local\\packages\\pythonsoftwarefoundation.python.3.10_qbz5n2kfra8p0\\localcache\\local-packages\\python310\\site-packages (from flask) (2.2.2)\n",
      "Requirement already satisfied: click>=8.0 in c:\\users\\aayushs2\\appdata\\local\\packages\\pythonsoftwarefoundation.python.3.10_qbz5n2kfra8p0\\localcache\\local-packages\\python310\\site-packages (from flask) (8.1.3)\n",
      "Requirement already satisfied: itsdangerous>=2.0 in c:\\users\\aayushs2\\appdata\\local\\packages\\pythonsoftwarefoundation.python.3.10_qbz5n2kfra8p0\\localcache\\local-packages\\python310\\site-packages (from flask) (2.1.2)\n",
      "Requirement already satisfied: colorama in c:\\users\\aayushs2\\appdata\\local\\packages\\pythonsoftwarefoundation.python.3.10_qbz5n2kfra8p0\\localcache\\local-packages\\python310\\site-packages (from click>=8.0->flask) (0.4.6)\n",
      "Requirement already satisfied: MarkupSafe>=2.0 in c:\\users\\aayushs2\\appdata\\local\\packages\\pythonsoftwarefoundation.python.3.10_qbz5n2kfra8p0\\localcache\\local-packages\\python310\\site-packages (from Jinja2>=3.0->flask) (2.1.1)\n"
     ]
    },
    {
     "name": "stderr",
     "output_type": "stream",
     "text": [
      "\n",
      "[notice] A new release of pip available: 22.2.2 -> 22.3.1\n",
      "[notice] To update, run: C:\\Users\\aayushs2\\AppData\\Local\\Microsoft\\WindowsApps\\PythonSoftwareFoundation.Python.3.10_qbz5n2kfra8p0\\python.exe -m pip install --upgrade pip\n"
     ]
    }
   ],
   "source": [
    "!{sys.executable} -m pip install flask"
   ]
  },
  {
   "cell_type": "code",
   "execution_count": 4,
   "metadata": {},
   "outputs": [
    {
     "name": "stdout",
     "output_type": "stream",
     "text": [
      "Requirement already satisfied: python-dotenv in c:\\users\\aayushs2\\appdata\\local\\packages\\pythonsoftwarefoundation.python.3.10_qbz5n2kfra8p0\\localcache\\local-packages\\python310\\site-packages (0.21.0)\n"
     ]
    },
    {
     "name": "stderr",
     "output_type": "stream",
     "text": [
      "\n",
      "[notice] A new release of pip available: 22.2.2 -> 22.3.1\n",
      "[notice] To update, run: C:\\Users\\aayushs2\\AppData\\Local\\Microsoft\\WindowsApps\\PythonSoftwareFoundation.Python.3.10_qbz5n2kfra8p0\\python.exe -m pip install --upgrade pip\n"
     ]
    }
   ],
   "source": [
    "!{sys.executable} -m pip install python-dotenv"
   ]
  },
  {
   "cell_type": "code",
   "execution_count": 5,
   "metadata": {},
   "outputs": [],
   "source": [
    "import os\n",
    "from datetime import datetime\n",
    "from minio import Minio\n",
    "from dotenv import load_dotenv"
   ]
  },
  {
   "cell_type": "code",
   "execution_count": 6,
   "metadata": {},
   "outputs": [],
   "source": [
    "load_dotenv()\n",
    "ACCESS_KEY = os.environ.get('ACCESS_KEY')\n",
    "SECRET_KEY = os.environ.get('SECRET_KEY')\n",
    "BUCKET_NAME = os.environ.get('BUCKET_NAME')\n",
    "minIO_host = \"ec2-65-0-177-178.ap-south-1.compute.amazonaws.com:9000\"\n",
    "minIO_client = Minio(minIO_host, access_key=ACCESS_KEY, secret_key=SECRET_KEY, secure=False)"
   ]
  },
  {
   "cell_type": "code",
   "execution_count": 7,
   "metadata": {},
   "outputs": [
    {
     "ename": "S3Error",
     "evalue": "S3 operation failed; code: AccessDenied, message: Access denied, resource: /source, request_id: 172DF5A60B8F64E5, host_id: None, bucket_name: source",
     "output_type": "error",
     "traceback": [
      "\u001b[1;31m---------------------------------------------------------------------------\u001b[0m",
      "\u001b[1;31mS3Error\u001b[0m                                   Traceback (most recent call last)",
      "Cell \u001b[1;32mIn [7], line 3\u001b[0m\n\u001b[0;32m      1\u001b[0m \u001b[39m# checking and making buckets if it doesn't exits\u001b[39;00m\n\u001b[0;32m      2\u001b[0m \u001b[39mfor\u001b[39;00m i \u001b[39min\u001b[39;00m [\u001b[39m\"\u001b[39m\u001b[39msource\u001b[39m\u001b[39m\"\u001b[39m, \u001b[39m\"\u001b[39m\u001b[39mprocessed\u001b[39m\u001b[39m\"\u001b[39m]:\n\u001b[1;32m----> 3\u001b[0m     \u001b[39mif\u001b[39;00m minIO_client\u001b[39m.\u001b[39;49mbucket_exists(i):\n\u001b[0;32m      4\u001b[0m         \u001b[39mprint\u001b[39m(\u001b[39mf\u001b[39m\u001b[39m\"\u001b[39m\u001b[39m{\u001b[39;00mi\u001b[39m}\u001b[39;00m\u001b[39m exists\u001b[39m\u001b[39m\"\u001b[39m)\n\u001b[0;32m      5\u001b[0m     \u001b[39melse\u001b[39;00m:\n",
      "File \u001b[1;32m~\\AppData\\Local\\Packages\\PythonSoftwareFoundation.Python.3.10_qbz5n2kfra8p0\\LocalCache\\local-packages\\Python310\\site-packages\\minio\\api.py:658\u001b[0m, in \u001b[0;36mMinio.bucket_exists\u001b[1;34m(self, bucket_name)\u001b[0m\n\u001b[0;32m    656\u001b[0m check_bucket_name(bucket_name)\n\u001b[0;32m    657\u001b[0m \u001b[39mtry\u001b[39;00m:\n\u001b[1;32m--> 658\u001b[0m     \u001b[39mself\u001b[39;49m\u001b[39m.\u001b[39;49m_execute(\u001b[39m\"\u001b[39;49m\u001b[39mHEAD\u001b[39;49m\u001b[39m\"\u001b[39;49m, bucket_name)\n\u001b[0;32m    659\u001b[0m     \u001b[39mreturn\u001b[39;00m \u001b[39mTrue\u001b[39;00m\n\u001b[0;32m    660\u001b[0m \u001b[39mexcept\u001b[39;00m S3Error \u001b[39mas\u001b[39;00m exc:\n",
      "File \u001b[1;32m~\\AppData\\Local\\Packages\\PythonSoftwareFoundation.Python.3.10_qbz5n2kfra8p0\\LocalCache\\local-packages\\Python310\\site-packages\\minio\\api.py:403\u001b[0m, in \u001b[0;36mMinio._execute\u001b[1;34m(self, method, bucket_name, object_name, body, headers, query_params, preload_content, no_body_trace)\u001b[0m\n\u001b[0;32m    400\u001b[0m region \u001b[39m=\u001b[39m \u001b[39mself\u001b[39m\u001b[39m.\u001b[39m_get_region(bucket_name, \u001b[39mNone\u001b[39;00m)\n\u001b[0;32m    402\u001b[0m \u001b[39mtry\u001b[39;00m:\n\u001b[1;32m--> 403\u001b[0m     \u001b[39mreturn\u001b[39;00m \u001b[39mself\u001b[39;49m\u001b[39m.\u001b[39;49m_url_open(\n\u001b[0;32m    404\u001b[0m         method,\n\u001b[0;32m    405\u001b[0m         region,\n\u001b[0;32m    406\u001b[0m         bucket_name\u001b[39m=\u001b[39;49mbucket_name,\n\u001b[0;32m    407\u001b[0m         object_name\u001b[39m=\u001b[39;49mobject_name,\n\u001b[0;32m    408\u001b[0m         body\u001b[39m=\u001b[39;49mbody,\n\u001b[0;32m    409\u001b[0m         headers\u001b[39m=\u001b[39;49mheaders,\n\u001b[0;32m    410\u001b[0m         query_params\u001b[39m=\u001b[39;49mquery_params,\n\u001b[0;32m    411\u001b[0m         preload_content\u001b[39m=\u001b[39;49mpreload_content,\n\u001b[0;32m    412\u001b[0m         no_body_trace\u001b[39m=\u001b[39;49mno_body_trace,\n\u001b[0;32m    413\u001b[0m     )\n\u001b[0;32m    414\u001b[0m \u001b[39mexcept\u001b[39;00m S3Error \u001b[39mas\u001b[39;00m exc:\n\u001b[0;32m    415\u001b[0m     \u001b[39mif\u001b[39;00m exc\u001b[39m.\u001b[39mcode \u001b[39m!=\u001b[39m \u001b[39m\"\u001b[39m\u001b[39mRetryHead\u001b[39m\u001b[39m\"\u001b[39m:\n",
      "File \u001b[1;32m~\\AppData\\Local\\Packages\\PythonSoftwareFoundation.Python.3.10_qbz5n2kfra8p0\\LocalCache\\local-packages\\Python310\\site-packages\\minio\\api.py:386\u001b[0m, in \u001b[0;36mMinio._url_open\u001b[1;34m(self, method, region, bucket_name, object_name, body, headers, query_params, preload_content, no_body_trace)\u001b[0m\n\u001b[0;32m    383\u001b[0m \u001b[39mif\u001b[39;00m response_error\u001b[39m.\u001b[39mcode \u001b[39min\u001b[39;00m [\u001b[39m\"\u001b[39m\u001b[39mNoSuchBucket\u001b[39m\u001b[39m\"\u001b[39m, \u001b[39m\"\u001b[39m\u001b[39mRetryHead\u001b[39m\u001b[39m\"\u001b[39m]:\n\u001b[0;32m    384\u001b[0m     \u001b[39mself\u001b[39m\u001b[39m.\u001b[39m_region_map\u001b[39m.\u001b[39mpop(bucket_name, \u001b[39mNone\u001b[39;00m)\n\u001b[1;32m--> 386\u001b[0m \u001b[39mraise\u001b[39;00m response_error\n",
      "\u001b[1;31mS3Error\u001b[0m: S3 operation failed; code: AccessDenied, message: Access denied, resource: /source, request_id: 172DF5A60B8F64E5, host_id: None, bucket_name: source"
     ]
    }
   ],
   "source": [
    "# checking and making buckets if it doesn't exits\n",
    "for i in [\"source\", \"processed\"]:\n",
    "    if minIO_client.bucket_exists(i):\n",
    "        print(f\"{i} exists\")\n",
    "    else:\n",
    "        print(f\"making bucket {i}\")\n",
    "        minIO_client.make_bucket(i)"
   ]
  },
  {
   "cell_type": "code",
   "execution_count": null,
   "metadata": {},
   "outputs": [
    {
     "name": "stdout",
     "output_type": "stream",
     "text": [
      "data\n",
      "processed\n",
      "source\n"
     ]
    }
   ],
   "source": [
    "# listing all the buckets\n",
    "for bucket in minIO_client.list_buckets():\n",
    "    print(bucket.name)"
   ]
  },
  {
   "cell_type": "code",
   "execution_count": null,
   "metadata": {},
   "outputs": [
    {
     "ename": "NameError",
     "evalue": "name 'minIO_client' is not defined",
     "output_type": "error",
     "traceback": [
      "\u001b[1;31m---------------------------------------------------------------------------\u001b[0m",
      "\u001b[1;31mNameError\u001b[0m                                 Traceback (most recent call last)",
      "Cell \u001b[1;32mIn [1], line 2\u001b[0m\n\u001b[0;32m      1\u001b[0m \u001b[39m# list all objects in a bucket\u001b[39;00m\n\u001b[1;32m----> 2\u001b[0m \u001b[39mfor\u001b[39;00m i \u001b[39min\u001b[39;00m minIO_client\u001b[39m.\u001b[39mlist_objects(\u001b[39m'\u001b[39m\u001b[39mdata\u001b[39m\u001b[39m'\u001b[39m, recursive\u001b[39m=\u001b[39m\u001b[39mTrue\u001b[39;00m):\n\u001b[0;32m      3\u001b[0m     \u001b[39mprint\u001b[39m(i\u001b[39m.\u001b[39mobject_name)\n",
      "\u001b[1;31mNameError\u001b[0m: name 'minIO_client' is not defined"
     ]
    }
   ],
   "source": [
    "# list all objects in a bucket\n",
    "for i in minIO_client.list_objects('data', recursive=True):\n",
    "    print(i.object_name)"
   ]
  },
  {
   "cell_type": "code",
   "execution_count": null,
   "metadata": {},
   "outputs": [
    {
     "name": "stdout",
     "output_type": "stream",
     "text": [
      "tpcds/store_sales_1669653618.908919.csv.gz 90b68718e038258d5b6c2664c35a3ad3 None\n"
     ]
    }
   ],
   "source": [
    "# upload data with metadata\n",
    "result = minIO_client.fput_object(\n",
    "    \"source\", \"tpcds/store_sales_1669653618.908919.csv.gz\", \"/home/aayush/bpcl/store_sales_1669653618.908919.csv.gz\",\n",
    "    metadata={\"table\" : \"store_sales\", \"datetime\" : datetime.now(), \"source\" : \"tpcds\", \"job_type\" : \"python_store_sales_extract\"}\n",
    ")\n",
    "print(f\"{result.object_name} {result.etag} {result.version_id}\")"
   ]
  },
  {
   "cell_type": "code",
   "execution_count": null,
   "metadata": {},
   "outputs": [],
   "source": [
    "# tagging objects\n",
    "from minio.commonconfig import Tags\n",
    "tags = Tags.new_bucket_tags()\n",
    "tags[\"table\"] = \"store_sales\"\n",
    "tags[\"datetime\"] = str(datetime.now())\n",
    "tags[\"source\"] = \"tpcds\"\n",
    "minIO_client.set_object_tags(\"source\", \"tpcds/store_sales_1669653618.908919.csv.gz\", tags)"
   ]
  },
  {
   "cell_type": "code",
   "execution_count": null,
   "metadata": {},
   "outputs": [
    {
     "name": "stdout",
     "output_type": "stream",
     "text": [
      "<class 'str'>\n",
      "{}\n",
      "[]\n"
     ]
    }
   ],
   "source": [
    "# listing object\n",
    "object = minIO_client.list_objects(\"source\", recursive=True)\n",
    "for obj in object:\n",
    "    print(type(obj.object_name))\n",
    "    print(obj.metadata)\n",
    "    print(list(obj.metadata.keys()))"
   ]
  },
  {
   "cell_type": "code",
   "execution_count": null,
   "metadata": {},
   "outputs": [
    {
     "name": "stdout",
     "output_type": "stream",
     "text": [
      "<class 'str'>\n",
      "{'X-Amz-Meta-Table': 'store_sales', 'X-Amz-Meta-Job_type': 'python_store_sales_extract', 'X-Amz-Meta-Datetime': '2022-12-02 21:29:57.729817', 'X-Amz-Meta-Source': 'tpcds', 'content-type': 'application/octet-stream'}\n",
      "['X-Amz-Meta-Table', 'X-Amz-Meta-Job_type', 'X-Amz-Meta-Datetime', 'X-Amz-Meta-Source', 'content-type']\n"
     ]
    }
   ],
   "source": [
    "# listing with metadata\n",
    "object = minIO_client.list_objects(\"source\", include_user_meta=True, recursive=True)\n",
    "for obj in object:\n",
    "    print(type(obj.object_name))\n",
    "    print(obj.metadata)\n",
    "    print(list(obj.metadata.keys()))"
   ]
  },
  {
   "cell_type": "code",
   "execution_count": null,
   "metadata": {},
   "outputs": [
    {
     "name": "stdout",
     "output_type": "stream",
     "text": [
      "{'source': 'tpcds', 'table': 'store_sales', 'datetime': '2022-12-02 21:29:58.090984'}\n"
     ]
    }
   ],
   "source": [
    "# getting tags\n",
    "objects = minIO_client.list_objects(\"source\", recursive=True)\n",
    "for i in objects:\n",
    "    tagss = minIO_client.get_object_tags(\"source\", i.object_name)\n",
    "    print(tagss)"
   ]
  },
  {
   "cell_type": "code",
   "execution_count": null,
   "metadata": {},
   "outputs": [
    {
     "name": "stdout",
     "output_type": "stream",
     "text": [
      "tpcds/store_sales_1669653618.908919.csv.gz\n"
     ]
    }
   ],
   "source": [
    "# filtering using tags\n",
    "objects = minIO_client.list_objects(\"source\", recursive=True)\n",
    "for i in objects:\n",
    "    tagss = minIO_client.get_object_tags(\"source\", i.object_name)\n",
    "    if 'tpcds' in list(tagss.values()):\n",
    "        print(obj.object_name)"
   ]
  },
  {
   "cell_type": "code",
   "execution_count": null,
   "metadata": {},
   "outputs": [],
   "source": []
  }
 ],
 "metadata": {
  "kernelspec": {
   "display_name": "Python 3.10.8 64-bit (microsoft store)",
   "language": "python",
   "name": "python3"
  },
  "language_info": {
   "codemirror_mode": {
    "name": "ipython",
    "version": 3
   },
   "file_extension": ".py",
   "mimetype": "text/x-python",
   "name": "python",
   "nbconvert_exporter": "python",
   "pygments_lexer": "ipython3",
   "version": "3.10.8"
  },
  "orig_nbformat": 4,
  "vscode": {
   "interpreter": {
    "hash": "e0acaf148705ed9ed86cc5cad12259d7985e30670e5686e5f55604a9b3b84a55"
   }
  }
 },
 "nbformat": 4,
 "nbformat_minor": 2
}
